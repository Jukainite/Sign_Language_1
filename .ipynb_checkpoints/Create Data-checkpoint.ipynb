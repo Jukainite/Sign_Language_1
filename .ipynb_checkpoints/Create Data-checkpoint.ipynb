{
 "cells": [
  {
   "cell_type": "markdown",
   "id": "4091a570-746f-4d16-8b14-9de4bb471e8d",
   "metadata": {},
   "source": [
    "# 1. Import and Install Dependencies"
   ]
  },
  {
   "cell_type": "code",
   "execution_count": 1,
   "id": "45d95031-f1af-4a8c-88d5-c301e015f10d",
   "metadata": {},
   "outputs": [],
   "source": [
    "import cv2\n",
    "import numpy as np\n",
    "import os\n",
    "from matplotlib import pyplot as plt\n",
    "import time\n",
    "import mediapipe as mp"
   ]
  },
  {
   "cell_type": "markdown",
   "id": "1909bbd1-2d72-4f24-a3ec-9e91794221d1",
   "metadata": {},
   "source": [
    "# 2. Setup Folders for Collection"
   ]
  },
  {
   "cell_type": "code",
   "execution_count": 2,
   "id": "b74aa0f9-dfd6-47d7-8761-eedf469bd090",
   "metadata": {},
   "outputs": [],
   "source": [
    "# Path for exported data, numpy arrays\n",
    "DATA_PATH = os.path.join('MP_Data') \n",
    "\n",
    "# Actions that we try to detect\n",
    "actions = np.array(['Hello', 'Thank you','Good bye', 'See you again', 'Sorry'])\n",
    "\n",
    "# Thirty videos worth of data\n",
    "no_sequences = 30\n",
    "\n",
    "# Videos are going to be 30 frames in length\n",
    "sequence_length = 30\n",
    "\n",
    "# Folder start\n",
    "start_folder = 1"
   ]
  },
  {
   "cell_type": "code",
   "execution_count": null,
   "id": "a7251af7-f074-49bd-a19f-03017fce0e16",
   "metadata": {},
   "outputs": [],
   "source": [
    "for action in actions: \n",
    "    # Create the action directory if it doesn't exist\n",
    "    try: \n",
    "        os.makedirs(os.path.join(DATA_PATH, action))\n",
    "    except FileExistsError:\n",
    "        pass\n",
    "    \n",
    "    # Get the maximum existing sequence number in the action directory\n",
    "    action_dir = os.path.join(DATA_PATH, action)\n",
    "    if os.path.exists(action_dir):\n",
    "        existing_sequences = [int(folder) for folder in os.listdir(action_dir) if folder.isdigit()]\n",
    "        if existing_sequences:\n",
    "            dirmax = max(existing_sequences)\n",
    "        else:\n",
    "            dirmax = 0\n",
    "    else:\n",
    "        dirmax = 0\n",
    "    \n",
    "    # Create new sequence directories\n",
    "    for sequence in range(1, no_sequences+1):\n",
    "        try: \n",
    "            os.makedirs(os.path.join(action_dir, str(dirmax+sequence)))\n",
    "        except FileExistsError:\n",
    "            pass"
   ]
  },
  {
   "cell_type": "markdown",
   "id": "300eeac0-02cf-4d02-8a5a-97b9d2d81f04",
   "metadata": {},
   "source": [
    "# 3. Collect Keypoint Values for Training and Testing"
   ]
  },
  {
   "cell_type": "code",
   "execution_count": null,
   "id": "51046bc4-e20f-4647-bffe-41c167e458e2",
   "metadata": {},
   "outputs": [],
   "source": [
    "cap = cv2.VideoCapture(0)\n",
    "# Set mediapipe model \n",
    "with mp_holistic.Holistic(min_detection_confidence=0.5, min_tracking_confidence=0.5) as holistic:\n",
    "    \n",
    "    # NEW LOOP\n",
    "    # Loop through actions\n",
    "    for action in actions:\n",
    "        # Loop through sequences aka videos\n",
    "        for sequence in range(start_folder, start_folder+no_sequences):\n",
    "            # Loop through video length aka sequence length\n",
    "            for frame_num in range(sequence_length):\n",
    "\n",
    "                # Read feed\n",
    "                ret, frame = cap.read()\n",
    "\n",
    "                # Make detections\n",
    "                image, results = mediapipe_detection(frame, holistic)\n",
    "\n",
    "                # Draw landmarks\n",
    "                draw_styled_landmarks(image, results)\n",
    "                \n",
    "                # NEW Apply wait logic\n",
    "                if frame_num == 0: \n",
    "                    cv2.putText(image, 'STARTING COLLECTION', (120,200), \n",
    "                               cv2.FONT_HERSHEY_SIMPLEX, 1, (0,255, 0), 4, cv2.LINE_AA)\n",
    "                    cv2.putText(image, 'Collecting frames for {} Video Number {}'.format(action, sequence), (15,12), \n",
    "                               cv2.FONT_HERSHEY_SIMPLEX, 0.5, (0, 0, 255), 1, cv2.LINE_AA)\n",
    "                    # Show to screen\n",
    "                    cv2.imshow('OpenCV Feed', image)\n",
    "                    cv2.waitKey(500)\n",
    "                else: \n",
    "                    cv2.putText(image, 'Collecting frames for {} Video Number {}'.format(action, sequence), (15,12), \n",
    "                               cv2.FONT_HERSHEY_SIMPLEX, 0.5, (0, 0, 255), 1, cv2.LINE_AA)\n",
    "                    # Show to screen\n",
    "                    cv2.imshow('OpenCV Feed', image)\n",
    "                \n",
    "                # NEW Export keypoints\n",
    "                keypoints = extract_keypoints(results)\n",
    "                npy_path = os.path.join(DATA_PATH, action, str(sequence), str(frame_num))\n",
    "                np.save(npy_path, keypoints)\n",
    "\n",
    "                # Break gracefully\n",
    "                if cv2.waitKey(10) & 0xFF == ord('q'):\n",
    "                    break\n",
    "                    \n",
    "    cap.release()\n",
    "    cv2.destroyAllWindows()"
   ]
  }
 ],
 "metadata": {
  "kernelspec": {
   "display_name": "Python 3 (ipykernel)",
   "language": "python",
   "name": "python3"
  },
  "language_info": {
   "codemirror_mode": {
    "name": "ipython",
    "version": 3
   },
   "file_extension": ".py",
   "mimetype": "text/x-python",
   "name": "python",
   "nbconvert_exporter": "python",
   "pygments_lexer": "ipython3",
   "version": "3.11.4"
  }
 },
 "nbformat": 4,
 "nbformat_minor": 5
}
